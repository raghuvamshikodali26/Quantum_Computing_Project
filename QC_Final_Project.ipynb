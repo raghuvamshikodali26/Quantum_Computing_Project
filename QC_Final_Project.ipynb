{
 "cells": [
  {
   "cell_type": "markdown",
   "metadata": {
    "id": "AcbX9R_sxDd2"
   },
   "source": [
    "**Deutsch–Jozsa algorithm**"
   ]
  },
  {
   "cell_type": "markdown",
   "metadata": {
    "id": "ZfvUXuodw-jv"
   },
   "source": [
    "The Deutsch-Jozsa algorithm is one of the earliest examples of a quantum algorithm that demonstrates the advantage of using a quantum computer over classical computers. It solves the Deutsch-Jozsa problem, which is a problem of determining whether a given function is constant or balanced.\n",
    "\n",
    "The problem statement is as follows: Given a black box function f that takes an n-bit input and produces a single-bit output, determine whether f is constant (outputs the same bit for all inputs) or balanced (outputs 0 for exactly half of the inputs and 1 for the other half).\n",
    "\n",
    "The classical solution to the Deutsch-Jozsa problem requires 2^(n-1) + 1 function evaluations in the worst case. However, the quantum Deutsch-Jozsa algorithm can solve the problem with a single function evaluation, providing an exponential speedup.\n",
    "\n",
    "Here is a high-level description of the Deutsch-Jozsa algorithm:\n",
    "\n",
    "Initialize two n+1-qubit quantum registers in the state |0...0⟩|1⟩. The first n qubits represent the input qubits, and the last qubit is the output qubit.\n",
    "Apply a Hadamard gate H to each qubit in the first register to create a superposition of all possible input states: (H⊗...⊗H)|0...0⟩.\n",
    "Apply a controlled-Uf gate, where Uf is the quantum oracle that implements the function f. This gate flips the phase of the output qubit if and only if the corresponding input state produces a 1 under f.\n",
    "Apply Hadamard gates to the first n qubits.\n",
    "Measure the first n qubits.\n",
    "The measurement result will be either all zeros (indicating a constant function) or a non-zero value (indicating a balanced function)."
   ]
  },
  {
   "cell_type": "code",
   "execution_count": null,
   "metadata": {
    "colab": {
     "base_uri": "https://localhost:8080/"
    },
    "id": "pmjw6If3hpLF",
    "outputId": "f91dd160-ec52-48bc-a354-cd51bd880a0a"
   },
   "outputs": [
    {
     "name": "stdout",
     "output_type": "stream",
     "text": [
      "Looking in indexes: https://pypi.org/simple, https://us-python.pkg.dev/colab-wheels/public/simple/\n",
      "Requirement already satisfied: qiskit in /usr/local/lib/python3.10/dist-packages (0.43.1)\n",
      "Requirement already satisfied: qiskit-terra==0.24.1 in /usr/local/lib/python3.10/dist-packages (from qiskit) (0.24.1)\n",
      "Requirement already satisfied: qiskit-aer==0.12.0 in /usr/local/lib/python3.10/dist-packages (from qiskit) (0.12.0)\n",
      "Requirement already satisfied: qiskit-ibmq-provider==0.20.2 in /usr/local/lib/python3.10/dist-packages (from qiskit) (0.20.2)\n",
      "Requirement already satisfied: numpy>=1.16.3 in /usr/local/lib/python3.10/dist-packages (from qiskit-aer==0.12.0->qiskit) (1.22.4)\n",
      "Requirement already satisfied: scipy>=1.0 in /usr/local/lib/python3.10/dist-packages (from qiskit-aer==0.12.0->qiskit) (1.10.1)\n",
      "Requirement already satisfied: requests>=2.19 in /usr/local/lib/python3.10/dist-packages (from qiskit-ibmq-provider==0.20.2->qiskit) (2.27.1)\n",
      "Requirement already satisfied: requests-ntlm<=1.1.0 in /usr/local/lib/python3.10/dist-packages (from qiskit-ibmq-provider==0.20.2->qiskit) (1.1.0)\n",
      "Requirement already satisfied: urllib3>=1.21.1 in /usr/local/lib/python3.10/dist-packages (from qiskit-ibmq-provider==0.20.2->qiskit) (1.26.15)\n",
      "Requirement already satisfied: python-dateutil>=2.8.0 in /usr/local/lib/python3.10/dist-packages (from qiskit-ibmq-provider==0.20.2->qiskit) (2.8.2)\n",
      "Requirement already satisfied: websocket-client>=1.5.1 in /usr/local/lib/python3.10/dist-packages (from qiskit-ibmq-provider==0.20.2->qiskit) (1.5.1)\n",
      "Requirement already satisfied: websockets>=10.0 in /usr/local/lib/python3.10/dist-packages (from qiskit-ibmq-provider==0.20.2->qiskit) (11.0.3)\n",
      "Requirement already satisfied: rustworkx>=0.12.0 in /usr/local/lib/python3.10/dist-packages (from qiskit-terra==0.24.1->qiskit) (0.13.0)\n",
      "Requirement already satisfied: ply>=3.10 in /usr/local/lib/python3.10/dist-packages (from qiskit-terra==0.24.1->qiskit) (3.11)\n",
      "Requirement already satisfied: psutil>=5 in /usr/local/lib/python3.10/dist-packages (from qiskit-terra==0.24.1->qiskit) (5.9.5)\n",
      "Requirement already satisfied: sympy>=1.3 in /usr/local/lib/python3.10/dist-packages (from qiskit-terra==0.24.1->qiskit) (1.11.1)\n",
      "Requirement already satisfied: dill>=0.3 in /usr/local/lib/python3.10/dist-packages (from qiskit-terra==0.24.1->qiskit) (0.3.6)\n",
      "Requirement already satisfied: stevedore>=3.0.0 in /usr/local/lib/python3.10/dist-packages (from qiskit-terra==0.24.1->qiskit) (5.1.0)\n",
      "Requirement already satisfied: symengine<0.10,>=0.9 in /usr/local/lib/python3.10/dist-packages (from qiskit-terra==0.24.1->qiskit) (0.9.2)\n",
      "Requirement already satisfied: six>=1.5 in /usr/local/lib/python3.10/dist-packages (from python-dateutil>=2.8.0->qiskit-ibmq-provider==0.20.2->qiskit) (1.16.0)\n",
      "Requirement already satisfied: certifi>=2017.4.17 in /usr/local/lib/python3.10/dist-packages (from requests>=2.19->qiskit-ibmq-provider==0.20.2->qiskit) (2022.12.7)\n",
      "Requirement already satisfied: charset-normalizer~=2.0.0 in /usr/local/lib/python3.10/dist-packages (from requests>=2.19->qiskit-ibmq-provider==0.20.2->qiskit) (2.0.12)\n",
      "Requirement already satisfied: idna<4,>=2.5 in /usr/local/lib/python3.10/dist-packages (from requests>=2.19->qiskit-ibmq-provider==0.20.2->qiskit) (3.4)\n",
      "Requirement already satisfied: ntlm-auth>=1.0.2 in /usr/local/lib/python3.10/dist-packages (from requests-ntlm<=1.1.0->qiskit-ibmq-provider==0.20.2->qiskit) (1.5.0)\n",
      "Requirement already satisfied: cryptography>=1.3 in /usr/local/lib/python3.10/dist-packages (from requests-ntlm<=1.1.0->qiskit-ibmq-provider==0.20.2->qiskit) (40.0.2)\n",
      "Requirement already satisfied: pbr!=2.1.0,>=2.0.0 in /usr/local/lib/python3.10/dist-packages (from stevedore>=3.0.0->qiskit-terra==0.24.1->qiskit) (5.11.1)\n",
      "Requirement already satisfied: mpmath>=0.19 in /usr/local/lib/python3.10/dist-packages (from sympy>=1.3->qiskit-terra==0.24.1->qiskit) (1.3.0)\n",
      "Requirement already satisfied: cffi>=1.12 in /usr/local/lib/python3.10/dist-packages (from cryptography>=1.3->requests-ntlm<=1.1.0->qiskit-ibmq-provider==0.20.2->qiskit) (1.15.1)\n",
      "Requirement already satisfied: pycparser in /usr/local/lib/python3.10/dist-packages (from cffi>=1.12->cryptography>=1.3->requests-ntlm<=1.1.0->qiskit-ibmq-provider==0.20.2->qiskit) (2.21)\n"
     ]
    }
   ],
   "source": [
    "pip install qiskit"
   ]
  },
  {
   "cell_type": "code",
   "execution_count": 6,
   "metadata": {
    "id": "YOcqJC8nhfpH"
   },
   "outputs": [],
   "source": [
    "from qiskit import QuantumCircuit, transpile\n",
    "from qiskit_aer import Aer\n",
    "from qiskit.visualization import plot_histogram"
   ]
  },
  {
   "cell_type": "code",
   "execution_count": 7,
   "metadata": {
    "id": "3Zh4Nu5whi6l"
   },
   "outputs": [],
   "source": [
    "# Define the constant and balanced functions\n",
    "def constant_function():\n",
    "    qc = QuantumCircuit(2)\n",
    "    qc.x(1)\n",
    "    return qc"
   ]
  },
  {
   "cell_type": "code",
   "execution_count": 8,
   "metadata": {
    "id": "sKN1AWkJh8h5"
   },
   "outputs": [],
   "source": [
    "def balanced_function():\n",
    "    qc = QuantumCircuit(2)\n",
    "    qc.cx(0, 1)\n",
    "    return qc"
   ]
  },
  {
   "cell_type": "code",
   "execution_count": 9,
   "metadata": {
    "id": "UJUbNKANh_MC"
   },
   "outputs": [],
   "source": [
    "def deutsch_jozsa_algorithm(f):\n",
    "    # Determine the number of qubits required based on the function size\n",
    "    n = f.num_qubits - 1  # Subtract 1 for the output qubit\n",
    "\n",
    "    # Create a quantum circuit with n+1 qubits and n classical bits\n",
    "    circuit = QuantumCircuit(n+1, n)\n",
    "\n",
    "    # Apply Hadamard gates to all qubits\n",
    "    circuit.h(range(n+1))\n",
    "\n",
    "    # Apply the oracle function\n",
    "    circuit.append(f, range(n+1))\n",
    "\n",
    "    # Apply Hadamard gates to the input qubits\n",
    "    circuit.h(range(n))\n",
    "\n",
    "    # Measure the input qubits\n",
    "    circuit.measure(range(n), range(n))\n",
    "\n",
    "    return circuit\n"
   ]
  },
  {
   "cell_type": "code",
   "execution_count": 10,
   "metadata": {
    "id": "v7_WpVkbiB5X"
   },
   "outputs": [],
   "source": [
    "# Create the constant and balanced circuits\n",
    "constant_circuit = constant_function()\n",
    "balanced_circuit = balanced_function()"
   ]
  },
  {
   "cell_type": "code",
   "execution_count": 11,
   "metadata": {
    "id": "vGo2IxDLiD1C"
   },
   "outputs": [],
   "source": [
    "# Run the Deutsch-Jozsa algorithm for the constant function\n",
    "circuit_constant = deutsch_jozsa_algorithm(constant_circuit)"
   ]
  },
  {
   "cell_type": "code",
   "execution_count": 12,
   "metadata": {
    "id": "EOWQ3s3siFhG"
   },
   "outputs": [],
   "source": [
    "\n",
    "# Run the Deutsch-Jozsa algorithm for the balanced function\n",
    "circuit_balanced = deutsch_jozsa_algorithm(balanced_circuit)"
   ]
  },
  {
   "cell_type": "code",
   "execution_count": 13,
   "metadata": {
    "colab": {
     "base_uri": "https://localhost:8080/"
    },
    "id": "7BdgnFTTjfsV",
    "outputId": "2d42311e-4dac-4bdf-de82-81facbe3facb"
   },
   "outputs": [
    {
     "name": "stdout",
     "output_type": "stream",
     "text": [
      "Constant Function Circuit:\n",
      "     ┌───┐┌──────────────┐┌───┐┌─┐\n",
      "q_0: ┤ H ├┤0             ├┤ H ├┤M├\n",
      "     ├───┤│  circuit-166 │└───┘└╥┘\n",
      "q_1: ┤ H ├┤1             ├──────╫─\n",
      "     └───┘└──────────────┘      ║ \n",
      "c: 1/═══════════════════════════╩═\n",
      "                                0 \n",
      "Balanced Function Circuit:\n",
      "     ┌───┐┌──────────────┐┌───┐┌─┐\n",
      "q_0: ┤ H ├┤0             ├┤ H ├┤M├\n",
      "     ├───┤│  circuit-167 │└───┘└╥┘\n",
      "q_1: ┤ H ├┤1             ├──────╫─\n",
      "     └───┘└──────────────┘      ║ \n",
      "c: 1/═══════════════════════════╩═\n",
      "                                0 \n"
     ]
    }
   ],
   "source": [
    "# Draw the circuit diagrams\n",
    "print(\"Constant Function Circuit:\")\n",
    "print(circuit_constant.draw())\n",
    "print(\"Balanced Function Circuit:\")\n",
    "print(circuit_balanced.draw())\n"
   ]
  },
  {
   "cell_type": "code",
   "execution_count": 14,
   "metadata": {},
   "outputs": [],
   "source": [
    "# Transpile the circuits\n",
    "simulator = Aer.get_backend('qasm_simulator')\n",
    "transpiled_circuit_constant = transpile(circuit_constant, simulator)\n",
    "transpiled_circuit_balanced = transpile(circuit_balanced, simulator)"
   ]
  },
  {
   "cell_type": "code",
   "execution_count": 15,
   "metadata": {
    "id": "Sr1VFCQ5iHmT"
   },
   "outputs": [],
   "source": [
    "# Simulate the circuits\n",
    "job_constant = simulator.run(transpiled_circuit_constant, shots=1024)\n",
    "job_balanced = simulator.run(transpiled_circuit_balanced, shots=1024)\n",
    "result_constant = job_constant.result().get_counts()\n",
    "result_balanced = job_balanced.result().get_counts()"
   ]
  },
  {
   "cell_type": "code",
   "execution_count": 16,
   "metadata": {
    "colab": {
     "base_uri": "https://localhost:8080/",
     "height": 449
    },
    "id": "0wdTVKBIiJMS",
    "outputId": "db456e6a-ae2c-430d-d562-677ea554df78"
   },
   "outputs": [
    {
     "data": {
      "image/png": "[encoded data removed]",
      "text/plain": [
       "<Figure size 640x480 with 1 Axes>"
      ]
     },
     "execution_count": 16,
     "metadata": {},
     "output_type": "execute_result"
    }
   ],
   "source": [
    "# Plot the histogram of the results\n",
    "plot_histogram([result_constant, result_balanced], legend=['Constant', 'Balanced'])"
   ]
  },
  {
   "cell_type": "markdown",
   "metadata": {
    "id": "JnWNDrMov3P_"
   },
   "source": [
    "**Simon's algorithm**"
   ]
  },
  {
   "cell_type": "markdown",
   "metadata": {
    "id": "fznlIbWIvw2n"
   },
   "source": [
    "Simon's algorithm is a quantum algorithm designed to solve the Simon's problem. The problem involves finding a hidden periodicity or structure in a function. Specifically, given a black box function `f` that takes `n`-bit strings as input and produces `n`-bit strings as output, Simon's algorithm aims to determine the period `s` of the function `f`, where `s` is a bit string such that `f(x) = f(x ⊕ s)` for all `n`-bit strings `x`, and `⊕` denotes bitwise XOR.\n",
    "\n",
    "The algorithm has applications in cryptography and is particularly useful for breaking classical symmetric-key cryptographic systems that are vulnerable to the related-key attacks. Simon's algorithm provides a speedup over classical algorithms for solving the problem, demonstrating the power of quantum computing in certain scenarios.\n",
    "\n",
    "The algorithm proceeds as follows:\n",
    "\n",
    "1. Initialize `2n` qubits in the state `|0...0⟩|0...0⟩`.\n",
    "2. Apply Hadamard gates to the first `n` qubits to put them in a superposition: `H^n|0...0⟩`.\n",
    "3. Query the black box function `f` by applying an oracle `Uf` that performs the transformation `|x⟩|y⟩ → |x⟩|y ⊕ f(x)⟩`.\n",
    "4. Apply Hadamard gates to the first `n` qubits again.\n",
    "5. Measure the first `n` qubits.\n",
    "\n",
    "The measurement outcomes will be `n`-bit strings that are uniformly distributed among the `2^n` possible bit strings. By performing the measurement `2n-1` times and obtaining `2n-1` linearly independent measurement outcomes, it is possible to solve a system of linear equations to determine the hidden period `s` of the function `f`.\n",
    "\n",
    "Simon's algorithm demonstrates the advantage of quantum computation in solving certain problems more efficiently than classical algorithms."
   ]
  },
  {
   "cell_type": "code",
   "execution_count": 34,
   "metadata": {
    "id": "c02mByhIqlQ-"
   },
   "outputs": [],
   "source": [
    "from qiskit import QuantumCircuit, transpile\n",
    "from qiskit.visualization import plot_histogram"
   ]
  },
  {
   "cell_type": "code",
   "execution_count": 35,
   "metadata": {
    "id": "fZ2zKrLTtCww"
   },
   "outputs": [],
   "source": [
    "# Define Simon's algorithm\n",
    "def simons_algorithm(f, n):\n",
    "    # Create a quantum circuit with 2n qubits and n classical bits\n",
    "    circuit = QuantumCircuit(2*n, n)\n",
    "\n",
    "    # Apply Hadamard gates to the first n qubits\n",
    "    circuit.h(range(n))\n",
    "\n",
    "    # Apply the oracle circuit\n",
    "    f(circuit, n)\n",
    "\n",
    "    # Apply Hadamard gates to the first n qubits again\n",
    "    circuit.h(range(n))\n",
    "\n",
    "    # Measure the first n qubits\n",
    "    circuit.measure(range(n), range(n))\n",
    "\n",
    "    return circuit"
   ]
  },
  {
   "cell_type": "code",
   "execution_count": 36,
   "metadata": {
    "id": "xH9q2Yf4tFuF"
   },
   "outputs": [],
   "source": [
    "# Define the oracle function for a given secret string s\n",
    "def oracle_f(circuit, n, s):\n",
    "    for i in range(n):\n",
    "        if s[i] == '1':\n",
    "            circuit.cx(i, n+i)"
   ]
  },
  {
   "cell_type": "code",
   "execution_count": 37,
   "metadata": {
    "id": "raZ_15-1tHuw"
   },
   "outputs": [],
   "source": [
    "# Set the secret string\n",
    "secret_string = '110'"
   ]
  },
  {
   "cell_type": "code",
   "execution_count": 38,
   "metadata": {
    "id": "Z6MYySgztJeP"
   },
   "outputs": [],
   "source": [
    "# Define the number of qubits based on the length of the secret string\n",
    "n_qubits = len(secret_string)"
   ]
  },
  {
   "cell_type": "code",
   "execution_count": 39,
   "metadata": {
    "id": "1rOaqJ-rtK8J"
   },
   "outputs": [],
   "source": [
    "# Create the Simon's algorithm circuit\n",
    "circuit = simons_algorithm(lambda circuit, n: oracle_f(circuit, n, secret_string), n_qubits)"
   ]
  },
  {
   "cell_type": "code",
   "execution_count": 40,
   "metadata": {
    "id": "BclhmsjRtMeM"
   },
   "outputs": [],
   "source": [
    "# Choose the simulator backend\n",
    "backend = Aer.get_backend('qasm_simulator')"
   ]
  },
  {
   "cell_type": "code",
   "execution_count": 41,
   "metadata": {},
   "outputs": [],
   "source": [
    "# Transpile the circuit\n",
    "transpiled_circuit = transpile(circuit, backend)"
   ]
  },
  {
   "cell_type": "code",
   "execution_count": 42,
   "metadata": {
    "id": "S1C7rL3wtN-4"
   },
   "outputs": [],
   "source": [
    "# Simulate the circuit\n",
    "job = backend.run(transpiled_circuit, shots=1024)\n",
    "result = job.result().get_counts(circuit)"
   ]
  },
  {
   "cell_type": "code",
   "execution_count": 43,
   "metadata": {
    "colab": {
     "base_uri": "https://localhost:8080/",
     "height": 472
    },
    "id": "SAqziRKrtPYV",
    "outputId": "dd339bec-2b60-413e-d01a-2d2a43e0ea81"
   },
   "outputs": [
    {
     "data": {
      "image/png": "[encoded data removed]",
      "text/plain": [
       "<Figure size 640x480 with 1 Axes>"
      ]
     },
     "execution_count": 43,
     "metadata": {},
     "output_type": "execute_result"
    }
   ],
   "source": [
    "# Plot the histogram of the measurement results\n",
    "plot_histogram(result)"
   ]
  },
  {
   "cell_type": "code",
   "execution_count": 44,
   "metadata": {
    "colab": {
     "base_uri": "https://localhost:8080/",
     "height": 513
    },
    "id": "SdtUHI0RtTH3",
    "outputId": "e4c50397-eb9f-4963-f07f-3c0031e65cd3"
   },
   "outputs": [
    {
     "data": {
      "image/png": "[encoded data removed]",
      "text/plain": [
       "<Figure size 705.552x618.722 with 1 Axes>"
      ]
     },
     "execution_count": 44,
     "metadata": {},
     "output_type": "execute_result"
    }
   ],
   "source": [
    "\n",
    "# Draw the circuit diagram\n",
    "circuit.draw(output='mpl')"
   ]
  }
 ],
 "metadata": {
  "colab": {
   "provenance": []
  },
  "kernelspec": {
   "display_name": "Python 3 (ipykernel)",
   "language": "python",
   "name": "python3"
  },
  "language_info": {
   "codemirror_mode": {
    "name": "ipython",
    "version": 3
   },
   "file_extension": ".py",
   "mimetype": "text/x-python",
   "name": "python",
   "nbconvert_exporter": "python",
   "pygments_lexer": "ipython3",
   "version": "3.12.3"
  }
 },
 "nbformat": 4,
 "nbformat_minor": 4
}
